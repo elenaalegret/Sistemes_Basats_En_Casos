{
 "cells": [
  {
   "cell_type": "markdown",
   "id": "81e0620e",
   "metadata": {
    "id": "81e0620e"
   },
   "source": [
    "30 Nov 2023\n",
    "\n",
    "# PyCaret Binary Classification Tutorial\n",
    "\n",
    "PyCaret is an open-source library in Python that automates machine learning workflows. It is an end-to-end machine learning and model management tool that exponentially speeds up the experiment cycle and makes you more productive.\n",
    "\n",
    "It makes experiments exponentially fast and efficient. PyCaret is essentially a Python wrapper around several machine learning libraries and frameworks, such as scikit-learn, XGBoost, LightGBM, CatBoost, spaCy, Optuna, Hyperopt, Ray, and a few more.\n",
    "\n",
    "### Index:\n",
    "\n",
    "The index of this notebook is based on:\n",
    "- Installation.\n",
    "- Decision Tree Module.\n",
    "    - Setup.\n",
    "    - Create Model.\n",
    "    - Assign Labels.\n",
    "    - Analyze Model.\n",
    "    - Save Model.\n",
    "      \n",
    "## Installation\n"
   ]
  },
  {
   "cell_type": "code",
   "execution_count": null,
   "id": "elCKqMZEVknY",
   "metadata": {
    "colab": {
     "base_uri": "https://localhost:8080/",
     "height": 1000
    },
    "executionInfo": {
     "elapsed": 231072,
     "status": "ok",
     "timestamp": 1701507063361,
     "user": {
      "displayName": "Elena Alegret Regalado",
      "userId": "14748787672852060064"
     },
     "user_tz": -60
    },
    "id": "elCKqMZEVknY",
    "outputId": "4ccb38bb-8517-4f0a-f1c4-7d739b851a11"
   },
   "outputs": [],
   "source": [
    "!pip install pycaret\n",
    "!pip install pycaret[full]\n",
    "!pip install pycaret[analysis]\n",
    "!pip install pycaret[models]\n",
    "!pip install pycaret[tuner]\n",
    "!pip install pycaret[mlops]\n",
    "!pip install pycaret[parallel]\n",
    "!pip install pycaret[test]\n",
    "\n",
    "# check installed version\n",
    "import pycaret\n",
    "pycaret.__version__\n",
    "\n",
    "import pandas as pd"
   ]
  },
  {
   "cell_type": "markdown",
   "id": "fb66e98d",
   "metadata": {
    "id": "fb66e98d"
   },
   "source": [
    "## Classification Module"
   ]
  },
  {
   "cell_type": "markdown",
   "id": "00347d44",
   "metadata": {
    "id": "00347d44"
   },
   "source": [
    "PyCaret’s Classification Module is a supervised machine learning module that is used for classifying elements into groups.\n",
    "\n",
    "It provides several pre-processing features that prepare the data for modeling through the setup function. It has over 18 ready-to-use algorithms and several plots to analyze the performance of trained models."
   ]
  },
  {
   "cell_type": "code",
   "execution_count": null,
   "id": "956dfdab",
   "metadata": {
    "colab": {
     "base_uri": "https://localhost:8080/",
     "height": 356
    },
    "executionInfo": {
     "elapsed": 245,
     "status": "error",
     "timestamp": 1701509576763,
     "user": {
      "displayName": "Elena Alegret Regalado",
      "userId": "14748787672852060064"
     },
     "user_tz": -60
    },
    "id": "956dfdab",
    "outputId": "8419d39d-065a-4a2c-ba5d-9e7eafa72b03"
   },
   "outputs": [],
   "source": [
    "# Loading dataset\n",
    "dataset = pd.read_csv('casos_lectors_dummies.csv')\n",
    "dataset.head()\n",
    "\n",
    "data = dataset.drop(['llibre_recomanat', 'score', 'id_usuari'], axis=1)\n",
    "data.head()\n",
    "\n",
    "dataset = pd.read_csv('dataset.csv')"
   ]
  },
  {
   "cell_type": "markdown",
   "id": "c00f6a4a",
   "metadata": {
    "id": "c00f6a4a"
   },
   "source": [
    "## Setup\n",
    "This function initializes the training environment and creates the transformation pipeline. Setup function must be called before executing any other function in PyCaret. It only has two required parameters i.e. `data` and `target`. All the other parameters are optional."
   ]
  },
  {
   "cell_type": "code",
   "execution_count": null,
   "id": "97f2c6c6",
   "metadata": {
    "executionInfo": {
     "elapsed": 7,
     "status": "aborted",
     "timestamp": 1701507063362,
     "user": {
      "displayName": "Elena Alegret Regalado",
      "userId": "14748787672852060064"
     },
     "user_tz": -60
    },
    "id": "97f2c6c6"
   },
   "outputs": [],
   "source": [
    "# import pycaret classification and init setup\n",
    "from pycaret.classification import *\n",
    "\n",
    "s = setup(dataset, target='Cluster', session_id=123, preprocess=False)"
   ]
  },
  {
   "cell_type": "markdown",
   "id": "3c583864",
   "metadata": {
    "id": "3c583864"
   },
   "source": [
    "Once the setup has been successfully executed it shows the information grid containing experiment level information.\n",
    "\n",
    "- **Session id:**  A pseudo-random number distributed as a seed in all functions for later reproducibility. If no `session_id` is passed, a random number is automatically generated that is distributed to all functions.<br/>\n",
    "<br/>\n",
    "- **Target type:**  Binary, Multiclass, or Regression. The Target type is automatically detected. <br/>\n",
    "<br/>\n",
    "- **Label Encoding:**  When the Target variable is of type string (i.e. 'Yes' or 'No') instead of 1 or 0, it automatically encodes the label into 1 and 0 and displays the mapping (0 : No, 1 : Yes) for reference. In this tutorial, no label encoding is required since the target variable is of numeric type. <br/>\n",
    "<br/>\n",
    "- **Original data shape:**  Shape of the original data prior to any transformations. <br/>\n",
    "<br/>\n",
    "- **Transformed train set shape :**  Shape of transformed train set <br/>\n",
    "<br/>\n",
    "- **Transformed test set shape :**  Shape of transformed test set <br/>\n",
    "<br/>\n",
    "- **Numeric features :**  The number of features considered as numerical. <br/>\n",
    "<br/>\n",
    "- **Categorical features :**  The number of features considered as categorical. <br/>"
   ]
  },
  {
   "cell_type": "code",
   "execution_count": null,
   "id": "32ee91c9",
   "metadata": {
    "executionInfo": {
     "elapsed": 7,
     "status": "aborted",
     "timestamp": 1701507063362,
     "user": {
      "displayName": "Elena Alegret Regalado",
      "userId": "14748787672852060064"
     },
     "user_tz": -60
    },
    "id": "32ee91c9"
   },
   "outputs": [],
   "source": [
    "# import ClassificationExperiment and init the class\n",
    "from pycaret.classification import ClassificationExperiment\n",
    "exp = ClassificationExperiment()\n",
    "\n",
    "# check the type of exp\n",
    "type(exp)\n",
    "\n",
    "# init setup on exp\n",
    "exp.setup(dataset, target='Cluster', session_id=123, preprocess=False)"
   ]
  },
  {
   "cell_type": "markdown",
   "id": "f98dd435",
   "metadata": {
    "id": "f98dd435"
   },
   "source": [
    "## Compare Models\n",
    "\n",
    "This function trains and evaluates the performance of all the estimators available in the model library using cross-validation. The output of this function is a scoring grid with average cross-validated scores. Metrics evaluated during CV can be accessed using the `get_metrics` function. Custom metrics can be added or removed using `add_metric` and `remove_metric` function."
   ]
  },
  {
   "cell_type": "code",
   "execution_count": null,
   "id": "65a19df4",
   "metadata": {
    "executionInfo": {
     "elapsed": 6,
     "status": "aborted",
     "timestamp": 1701507063362,
     "user": {
      "displayName": "Elena Alegret Regalado",
      "userId": "14748787672852060064"
     },
     "user_tz": -60
    },
    "id": "65a19df4"
   },
   "outputs": [],
   "source": [
    "# compare baseline models\n",
    "best = compare_models(include = ['dt', 'catboost'])\n",
    "best"
   ]
  },
  {
   "cell_type": "code",
   "execution_count": null,
   "id": "87477aa4",
   "metadata": {
    "executionInfo": {
     "elapsed": 6,
     "status": "aborted",
     "timestamp": 1701507063362,
     "user": {
      "displayName": "Elena Alegret Regalado",
      "userId": "14748787672852060064"
     },
     "user_tz": -60
    },
    "id": "87477aa4"
   },
   "outputs": [],
   "source": [
    "# compare models using OOP\n",
    "exp.compare_models(include = ['dt', 'catboost'])"
   ]
  },
  {
   "cell_type": "markdown",
   "id": "340de1e2",
   "metadata": {
    "id": "340de1e2"
   },
   "source": [
    "Notice that the output between functional and OOP API is consistent. Rest of the functions in this notebook will only be shown using functional API only."
   ]
  },
  {
   "cell_type": "markdown",
   "id": "6a77ec0c",
   "metadata": {
    "id": "6a77ec0c"
   },
   "source": [
    "## Analyze Model"
   ]
  },
  {
   "cell_type": "code",
   "execution_count": null,
   "id": "da718984",
   "metadata": {
    "executionInfo": {
     "elapsed": 7,
     "status": "aborted",
     "timestamp": 1701507063363,
     "user": {
      "displayName": "Elena Alegret Regalado",
      "userId": "14748787672852060064"
     },
     "user_tz": -60
    },
    "id": "da718984"
   },
   "outputs": [],
   "source": [
    "# check docstring to see available plots\n",
    "# help(plot_model)"
   ]
  },
  {
   "cell_type": "code",
   "execution_count": null,
   "id": "c75f07a8",
   "metadata": {
    "executionInfo": {
     "elapsed": 7,
     "status": "aborted",
     "timestamp": 1701507063363,
     "user": {
      "displayName": "Elena Alegret Regalado",
      "userId": "14748787672852060064"
     },
     "user_tz": -60
    },
    "id": "c75f07a8"
   },
   "outputs": [],
   "source": [
    "evaluate_model(best)"
   ]
  },
  {
   "cell_type": "markdown",
   "id": "e4384735",
   "metadata": {
    "id": "e4384735"
   },
   "source": [
    "## Save Model"
   ]
  },
  {
   "cell_type": "markdown",
   "id": "cd63f053",
   "metadata": {
    "id": "cd63f053"
   },
   "source": [
    "To save the entire pipeline on disk for later use, using pycaret's `save_model` function."
   ]
  },
  {
   "cell_type": "code",
   "execution_count": null,
   "id": "4181de41",
   "metadata": {
    "executionInfo": {
     "elapsed": 7,
     "status": "aborted",
     "timestamp": 1701507063363,
     "user": {
      "displayName": "Elena Alegret Regalado",
      "userId": "14748787672852060064"
     },
     "user_tz": -60
    },
    "id": "4181de41"
   },
   "outputs": [],
   "source": [
    "# save pipeline\n",
    "save_model(best, 'DecisionTree_Pipeline')\n",
    "\n",
    "import pickle\n",
    "\n",
    "# best es tu modelo entrenado\n",
    "# 'modelo_guardado.pkl' es el nombre del archivo donde se guardará el modelo\n",
    "fitxer = '/content/DecisionTree_Pipeline'\n",
    "\n",
    "with open(fitxer, 'wb') as archivo:\n",
    "    pickle.dump(best, archivo)"
   ]
  },
  {
   "cell_type": "code",
   "execution_count": null,
   "id": "40ed5152",
   "metadata": {
    "executionInfo": {
     "elapsed": 7,
     "status": "aborted",
     "timestamp": 1701507063363,
     "user": {
      "displayName": "Elena Alegret Regalado",
      "userId": "14748787672852060064"
     },
     "user_tz": -60
    },
    "id": "40ed5152"
   },
   "outputs": [],
   "source": [
    "# load pipeline\n",
    "loaded_best_pipeline = load_model('DecisionTree_Pipeline')\n",
    "loaded_best_pipeline"
   ]
  },
  {
   "cell_type": "code",
   "execution_count": null,
   "id": "r7_-BzcEtVzl",
   "metadata": {
    "executionInfo": {
     "elapsed": 7,
     "status": "aborted",
     "timestamp": 1701507063363,
     "user": {
      "displayName": "Elena Alegret Regalado",
      "userId": "14748787672852060064"
     },
     "user_tz": -60
    },
    "id": "r7_-BzcEtVzl"
   },
   "outputs": [],
   "source": [
    "from pycaret.classification import plot_model\n",
    "plot_model(loaded_best_pipeline, plot = 'tree')  # Para visualizar el árbol\n",
    "plot_model(loaded_best_pipeline, plot = 'feature')  # Para la importancia de las características"
   ]
  },
  {
   "cell_type": "markdown",
   "id": "rTPw4YbYecoO",
   "metadata": {
    "id": "rTPw4YbYecoO"
   },
   "source": [
    "---\n",
    "---"
   ]
  }
 ],
 "metadata": {
  "colab": {
   "provenance": [
    {
     "file_id": "https://github.com/pycaret/pycaret/blob/master/tutorials/Tutorial%20-%20Binary%20Classification.ipynb",
     "timestamp": 1701279488843
    }
   ]
  },
  "kernelspec": {
   "display_name": "Python 3 (ipykernel)",
   "language": "python",
   "name": "python3"
  },
  "language_info": {
   "codemirror_mode": {
    "name": "ipython",
    "version": 3
   },
   "file_extension": ".py",
   "mimetype": "text/x-python",
   "name": "python",
   "nbconvert_exporter": "python",
   "pygments_lexer": "ipython3",
   "version": "3.10.6"
  }
 },
 "nbformat": 4,
 "nbformat_minor": 5
}
