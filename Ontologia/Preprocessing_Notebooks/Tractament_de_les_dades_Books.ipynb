{
 "cells": [
  {
   "cell_type": "markdown",
   "id": "4f6c7c8b-c08f-47e3-af14-ec1933038ad3",
   "metadata": {},
   "source": [
    "                                                                                                                    SBC - GIA\n",
    "___\n",
    "<div style=\"text-align: center;\">\n",
    "  <span style=\"font-family: 'Playfair Display', serif; font-size: 24px; font-weight: bold;\">\n",
    "        Tractament de les dades Books\n",
    "  </span>\n",
    "</div>\n",
    "\n",
    "___\n",
    "\n",
    "\n",
    "##### Imports"
   ]
  },
  {
   "cell_type": "code",
   "execution_count": 1,
   "id": "aa04bdd5-427f-4074-9653-49e7f56c75db",
   "metadata": {},
   "outputs": [],
   "source": [
    "import pandas as pd\n",
    "import ast\n"
   ]
  },
  {
   "cell_type": "markdown",
   "id": "e7d9afb3-9b85-44a0-b41f-66ba1809a032",
   "metadata": {},
   "source": [
    "<div style=\"background-color:#F2F2F2; padding: 10px;\">\n",
    "    <div style=\"text-align: center;\">\n",
    "      <span style=\"font-family: 'Playfair Display', serif; font-size: 20px; font-weight: bold;\">\n",
    "        1. Data Extraction \n",
    "      </span>\n",
    "    </div>\n",
    "</div>\n",
    "\n",
    "\n",
    "In this section, we will perform a thorough analysis of our dataset `Books.csv`, exploring its characteristics. "
   ]
  },
  {
   "cell_type": "code",
   "execution_count": 2,
   "id": "ff14ad00-ba61-40b7-9cba-fc3de3787d43",
   "metadata": {},
   "outputs": [
    {
     "name": "stdout",
     "output_type": "stream",
     "text": [
      "The Books dataset contains 107 books and 16 different attributes. \n",
      "\n",
      "The dataset includes the following attributes: \n",
      "     id_llibre, titol, nom, escrit_per, pertany_a, adaptacio_a_pelicula, any_publicacio, edat_minima, editorial, format, num_pagines, best_seller, saga, traduccions, valoracio, num_lectures\n"
     ]
    }
   ],
   "source": [
    "# Import the dataset\n",
    "books_dataset = pd.read_csv('./Books.csv')\n",
    "\n",
    "num_filas, num_columnas = books_dataset.shape\n",
    "columnas = \", \".join(books_dataset.columns.tolist())\n",
    "\n",
    "print(f'The Books dataset contains {num_filas} books and {num_columnas} different attributes. \\n')\n",
    "print(f'The dataset includes the following attributes: \\n     {columnas}')\n"
   ]
  },
  {
   "cell_type": "markdown",
   "id": "1a8d5d19-0170-497f-b568-347efca35d6e",
   "metadata": {},
   "source": [
    "<div style=\"background-color:#F2F2F2; padding: 10px;\">\n",
    "    <div style=\"text-align: center;\">\n",
    "      <span style=\"font-family: 'Playfair Display', serif; font-size: 20px; font-weight: bold;\">\n",
    "        2. Dataset Preprocessing \n",
    "      </span>\n",
    "    </div>\n",
    "</div>\n",
    "\n",
    "In this section, we will initiate the data preprocessing phase to ensure the data is ready for further analysis. \n",
    "\n",
    "The preprocessing can be divided in two sections: \n",
    "\n",
    "- Format correction:\n",
    "    - The `pertany_a` category of books number 25, 38, and 49 have been corrected.\n",
    "- Data correction: \n",
    "    - The `pertany_a` category has been adjusted to the language decided.\n",
    "    - The `format` category has been adjusted to the language decided.\n",
    "    - The `traduccions` category has been adjusted to the language decided.\n",
    "\n",
    "#### 2.1. Format correction:"
   ]
  },
  {
   "cell_type": "code",
   "execution_count": 3,
   "id": "a3c9c6b6-623e-4fa3-ab6b-2805eb85c18e",
   "metadata": {},
   "outputs": [],
   "source": [
    "books_dataset.at[25, 'pertany_a'] = \"{'Historica', 'Juvenil'}\"\n",
    "books_dataset.at[38, 'pertany_a'] = \"{'Creixement_personal', 'Ficcio'}\"\n",
    "books_dataset.at[49, 'pertany_a'] = \"{'Ficcio', 'Ciencia_Ficcio'}\"\n"
   ]
  },
  {
   "cell_type": "markdown",
   "id": "a48b22a7-c08d-44fd-8313-74834ee14c42",
   "metadata": {},
   "source": [
    "#### 2.2. Data correction\n",
    "\n",
    "##### `Pertany_a`"
   ]
  },
  {
   "cell_type": "code",
   "execution_count": 4,
   "id": "758d75a6-be77-4e16-9420-3c52406331bc",
   "metadata": {},
   "outputs": [],
   "source": [
    "genre_dict = {\n",
    "    \"Ficcio\": \"Ficció\",\n",
    "    \"Romance\": \"Romanç\",\n",
    "    \"Ciencia_Ficcio\": \"Ciència Ficció\",\n",
    "    \"Juvenil\": \"Juvenil\",\n",
    "    \"Fantasia\": \"Fantasia\",\n",
    "    \"Historica\": \"Històrica\",\n",
    "    \"Ciencia\": \"Ciència\",\n",
    "    \"Policiaca\": \"Policiaca\",\n",
    "    \"Comedia\": \"Comèdia\",\n",
    "    \"Terror\": \"Terror\",\n",
    "    \"Creixement_personal\": \"Creixement Personal\",\n",
    "    \"Aventura\": \"Aventura\",\n",
    "    \"Drama\": \"Drama\"\n",
    "}\n"
   ]
  },
  {
   "cell_type": "code",
   "execution_count": 5,
   "id": "16e1adf9-35a8-4186-9a8e-11cfe9ea3a5f",
   "metadata": {},
   "outputs": [
    {
     "data": {
      "text/plain": [
       "array([\"{'Ficció'}\", \"{'Romàntic'}\", \"{'Ciència Ficció'}\",\n",
       "       \"{'Fantasia', 'Juvenil'}\", \"{'Històrica', 'Ficció', 'Romàntic'}\",\n",
       "       \"{'Fantasia'}\", \"{'Històrica'}\", \"{'Ciència'}\", \"{'Policiaca'}\",\n",
       "       \"{'Comèdia'}\", \"{'Romàntic', 'Ficció'}\", \"{'Juvenil', 'Comèdia'}\",\n",
       "       \"{'Històrica', 'Juvenil'}\", \"{'Terror'}\",\n",
       "       \"{'Creixement Personal', 'Ficció'}\", \"{'Creixement personal'}\",\n",
       "       \"{'Juvenil', 'Aventura'}\", \"{'Ficció', 'Juvenil'}\",\n",
       "       \"{'Ciència Ficció', 'Ficció'}\", \"{'Ciència Ficció', 'Aventura'}\",\n",
       "       \"{'Ficció', 'Policiaca', 'Aventura'}\", \"{'Històrica', 'Ficció'}\",\n",
       "       \"{'Terror', 'Policiaca'}\", \"{'Terror', 'Ficció', 'Policiaca'}\",\n",
       "       \"{'Ciència Ficció', 'Ficció', 'Terror'}\", \"{'Aventura'}\",\n",
       "       \"{'Terror', 'Ficció'}\", \"{'Fantasia', 'Ficció'}\",\n",
       "       \"{'Ficció', 'Romàntic', 'Juvenil'}\", \"{'Ficció', 'Policiaca'}\",\n",
       "       \"{'Terror', 'Històrica', 'Ficció'}\",\n",
       "       \"{'Ciència Ficció', 'Ficció', 'Juvenil', 'Aventura'}\",\n",
       "       \"{'Fantasia', 'Juvenil', 'Aventura'}\",\n",
       "       \"{'Romàntic', 'Ficció', 'Drama'}\", \"{'Ficció', 'Comèdia'}\",\n",
       "       \"{'Romàntic', 'Ficció', 'Comèdia'}\",\n",
       "       \"{'Ciència Ficció', 'Juvenil', 'Aventura'}\"], dtype=object)"
      ]
     },
     "execution_count": 5,
     "metadata": {},
     "output_type": "execute_result"
    }
   ],
   "source": [
    "for index in books_dataset.index:\n",
    "    lst = list(ast.literal_eval(books_dataset.at[index, 'pertany_a']))\n",
    "    \n",
    "    for idx, genre in enumerate(lst):\n",
    "        # Utilitzem 'get' per a retornar la llengua si no es troba al diccionari\n",
    "        lst[idx] = genre_dict.get(genre, genre)\n",
    "    \n",
    "    books_dataset.at[index, 'pertany_a'] = str(set(lst))\n",
    "books_dataset[\"pertany_a\"].unique() \n"
   ]
  },
  {
   "cell_type": "markdown",
   "id": "1ae193f7-89a5-43f7-bf72-cb4300e21b76",
   "metadata": {},
   "source": [
    "##### `Format`"
   ]
  },
  {
   "cell_type": "code",
   "execution_count": 6,
   "id": "8dda5eae-b454-4ae5-889e-749b53b9078f",
   "metadata": {},
   "outputs": [
    {
     "data": {
      "text/plain": [
       "array([\"{'tova', 'eBook', 'dura'}\", \"{'tova'}\", \"{'eBook', 'tova'}\",\n",
       "       \"{'tova', 'dura'}\", \"{'eBook', 'dura', 'tova'}\",\n",
       "       \"{'epub', 'tova'}\", \"{'Reflowable', 'EPUB'}\", \"{'eBook', 'dura'}\",\n",
       "       \"{'tova', 'dura', 'eBook'}\"], dtype=object)"
      ]
     },
     "execution_count": 6,
     "metadata": {},
     "output_type": "execute_result"
    }
   ],
   "source": [
    "books_dataset.at[106, 'format'] = \"{'tova', 'dura', 'eBook'}\"\n",
    "\n",
    "for index in books_dataset.index:\n",
    "    if 'blanda' in books_dataset.at[index, 'format']:\n",
    "        books_dataset.at[index, 'format'] = books_dataset.at[index, 'format'].replace('blanda', 'tova')\n",
    "\n",
    "books_dataset[\"format\"].unique() \n"
   ]
  },
  {
   "cell_type": "markdown",
   "id": "13c1a140-8f69-493d-9d48-62b4e726c3ff",
   "metadata": {},
   "source": [
    "##### `Traduccions`"
   ]
  },
  {
   "cell_type": "code",
   "execution_count": 7,
   "id": "fc4c26a1-818a-4dbf-bda5-87e0cced55b4",
   "metadata": {},
   "outputs": [],
   "source": [
    "# Diccionari de traduccions de països a llengües en català\n",
    "traduccions_llengues = {\n",
    "    'Castella': 'Espanyol',\n",
    "    'Italia': 'Italià',\n",
    "    'Japones': 'Japonès',\n",
    "    'Catala': 'Català',\n",
    "    'Angles': 'Anglès',\n",
    "    'Alemany': 'Alemany',\n",
    "    'Frances': 'Francès',\n",
    "    'Portugues': 'Portuguès',\n",
    "    'Polones': 'Polonès',\n",
    "    'Xines': 'Xinès',\n",
    "    'Suec': 'Suec',\n",
    "    'Neerlandes': 'Neerlandès',\n",
    "    'Polac': 'Polonès',\n",
    "    'Tailandes': 'Tailandès',\n",
    "    'Albanes': 'Albanès',\n",
    "    'Galleg': 'Gallec',\n",
    "    'Greg': 'Grec',\n",
    "    'Norueg': 'Noruec',\n",
    "    'Hebreu': 'Hebreu',\n",
    "    'Rumanes': 'Romanès',\n",
    "    'Finlandes': 'Finès',\n",
    "    'Corea': 'Coreà',\n",
    "    'Turc': 'Turc',\n",
    "    'Hungar': 'Hongarès',\n",
    "    'Danes': 'Danès',\n",
    "    'Serbi': 'Serbi',\n",
    "    'Rus': 'Rus',\n",
    "    'Chec': 'Txec',\n",
    "    'Croata': 'Croat',\n",
    "    'Bulgar': 'Búlgar',\n",
    "    'Noruec': 'Noruec',\n",
    "    'Leton': 'Letó'\n",
    "}\n"
   ]
  },
  {
   "cell_type": "code",
   "execution_count": 8,
   "id": "5d767411-d4b1-4f64-9ae8-b79a3f5590f5",
   "metadata": {},
   "outputs": [],
   "source": [
    "for index in books_dataset.index:\n",
    "    lst = list(ast.literal_eval(books_dataset.at[index, 'traduccions']))\n",
    "    \n",
    "    for idx, language in enumerate(lst):\n",
    "        # Utilitzem 'get' per a retornar la llengua si no es troba al diccionari\n",
    "        lst[idx] = traduccions_llengues.get(language, language)\n",
    "    \n",
    "    books_dataset.at[index, 'traduccions'] = str(set(lst))\n",
    "    "
   ]
  },
  {
   "cell_type": "code",
   "execution_count": 9,
   "id": "3b619df7",
   "metadata": {},
   "outputs": [],
   "source": [
    "books_dataset['escrit_per'] = books_dataset['escrit_per'].str.replace('_', ' ')\n",
    "books_dataset['titol'] = books_dataset['titol'].str.replace('_', ' ')"
   ]
  },
  {
   "cell_type": "code",
   "execution_count": 10,
   "id": "d2f271b3-1c9a-4752-a44e-7ccd91aeacce",
   "metadata": {
    "scrolled": false
   },
   "outputs": [
    {
     "data": {
      "text/html": [
       "<div>\n",
       "<style scoped>\n",
       "    .dataframe tbody tr th:only-of-type {\n",
       "        vertical-align: middle;\n",
       "    }\n",
       "\n",
       "    .dataframe tbody tr th {\n",
       "        vertical-align: top;\n",
       "    }\n",
       "\n",
       "    .dataframe thead th {\n",
       "        text-align: right;\n",
       "    }\n",
       "</style>\n",
       "<table border=\"1\" class=\"dataframe\">\n",
       "  <thead>\n",
       "    <tr style=\"text-align: right;\">\n",
       "      <th></th>\n",
       "      <th>id_llibre</th>\n",
       "      <th>titol</th>\n",
       "      <th>nom</th>\n",
       "      <th>escrit_per</th>\n",
       "      <th>pertany_a</th>\n",
       "      <th>adaptacio_a_pelicula</th>\n",
       "      <th>any_publicacio</th>\n",
       "      <th>edat_minima</th>\n",
       "      <th>editorial</th>\n",
       "      <th>format</th>\n",
       "      <th>num_pagines</th>\n",
       "      <th>best_seller</th>\n",
       "      <th>saga</th>\n",
       "      <th>traduccions</th>\n",
       "      <th>valoracio</th>\n",
       "      <th>num_lectures</th>\n",
       "    </tr>\n",
       "  </thead>\n",
       "  <tbody>\n",
       "    <tr>\n",
       "      <th>0</th>\n",
       "      <td>0</td>\n",
       "      <td>Norwegian Wood</td>\n",
       "      <td>Norwegian_Wood</td>\n",
       "      <td>Haruki Murakami</td>\n",
       "      <td>{'Ficció'}</td>\n",
       "      <td>Si</td>\n",
       "      <td>1987</td>\n",
       "      <td>3</td>\n",
       "      <td>Editorial Tusquets Editores</td>\n",
       "      <td>{'tova', 'eBook', 'dura'}</td>\n",
       "      <td>400</td>\n",
       "      <td>Si</td>\n",
       "      <td>No</td>\n",
       "      <td>{'Alemany', 'Japonès', 'Anglès', 'Italià', 'Es...</td>\n",
       "      <td>4.5</td>\n",
       "      <td>1</td>\n",
       "    </tr>\n",
       "    <tr>\n",
       "      <th>1</th>\n",
       "      <td>1</td>\n",
       "      <td>Bridget Jones's Diary</td>\n",
       "      <td>Bridget_Joness_Diary</td>\n",
       "      <td>Helen Fielding</td>\n",
       "      <td>{'Romàntic'}</td>\n",
       "      <td>Si</td>\n",
       "      <td>1996</td>\n",
       "      <td>13</td>\n",
       "      <td>Editorial Picador</td>\n",
       "      <td>{'tova', 'eBook', 'dura'}</td>\n",
       "      <td>464</td>\n",
       "      <td>Si</td>\n",
       "      <td>Si</td>\n",
       "      <td>{'Català', 'Italià', 'Espanyol', 'Anglès', 'Fr...</td>\n",
       "      <td>4.7</td>\n",
       "      <td>1</td>\n",
       "    </tr>\n",
       "    <tr>\n",
       "      <th>2</th>\n",
       "      <td>2</td>\n",
       "      <td>Do Androids Dream of Electric Sheep?</td>\n",
       "      <td>Do_Androids_Dream_of_Electric_Sheep</td>\n",
       "      <td>Philip K Dick</td>\n",
       "      <td>{'Ciència Ficció'}</td>\n",
       "      <td>No</td>\n",
       "      <td>1968</td>\n",
       "      <td>13</td>\n",
       "      <td>Editorial Doubleday</td>\n",
       "      <td>{'tova'}</td>\n",
       "      <td>208</td>\n",
       "      <td>Si</td>\n",
       "      <td>No</td>\n",
       "      <td>{'Anglès', 'Francès', 'Alemany', 'Espanyol'}</td>\n",
       "      <td>4.4</td>\n",
       "      <td>0</td>\n",
       "    </tr>\n",
       "    <tr>\n",
       "      <th>3</th>\n",
       "      <td>3</td>\n",
       "      <td>Harry Potter and the Philosopher's Stone</td>\n",
       "      <td>Harry_Potter_and_the_Philosophers_Stone</td>\n",
       "      <td>JK Rowling</td>\n",
       "      <td>{'Fantasia', 'Juvenil'}</td>\n",
       "      <td>Si</td>\n",
       "      <td>2000</td>\n",
       "      <td>9</td>\n",
       "      <td>Editorial Bloomsbury Publishing PLC</td>\n",
       "      <td>{'tova', 'eBook', 'dura'}</td>\n",
       "      <td>336</td>\n",
       "      <td>Si</td>\n",
       "      <td>Si</td>\n",
       "      <td>{'Alemany', 'Català', 'Italià', 'Espanyol', 'A...</td>\n",
       "      <td>4.7</td>\n",
       "      <td>7</td>\n",
       "    </tr>\n",
       "    <tr>\n",
       "      <th>4</th>\n",
       "      <td>4</td>\n",
       "      <td>Song of Achilles</td>\n",
       "      <td>The_song_of_Achiles</td>\n",
       "      <td>Madeline Miller</td>\n",
       "      <td>{'Històrica', 'Ficció', 'Romàntic'}</td>\n",
       "      <td>No</td>\n",
       "      <td>2012</td>\n",
       "      <td>13</td>\n",
       "      <td>Ecco Suma de Letras</td>\n",
       "      <td>{'tova', 'eBook', 'dura'}</td>\n",
       "      <td>497</td>\n",
       "      <td>Si</td>\n",
       "      <td>No</td>\n",
       "      <td>{'Anglès', 'Italià', 'Japonès', 'Espanyol'}</td>\n",
       "      <td>4.8</td>\n",
       "      <td>2</td>\n",
       "    </tr>\n",
       "  </tbody>\n",
       "</table>\n",
       "</div>"
      ],
      "text/plain": [
       "   id_llibre                                     titol  \\\n",
       "0          0                            Norwegian Wood   \n",
       "1          1                     Bridget Jones's Diary   \n",
       "2          2      Do Androids Dream of Electric Sheep?   \n",
       "3          3  Harry Potter and the Philosopher's Stone   \n",
       "4          4                          Song of Achilles   \n",
       "\n",
       "                                       nom       escrit_per  \\\n",
       "0                           Norwegian_Wood  Haruki Murakami   \n",
       "1                     Bridget_Joness_Diary   Helen Fielding   \n",
       "2      Do_Androids_Dream_of_Electric_Sheep    Philip K Dick   \n",
       "3  Harry_Potter_and_the_Philosophers_Stone       JK Rowling   \n",
       "4                      The_song_of_Achiles  Madeline Miller   \n",
       "\n",
       "                             pertany_a adaptacio_a_pelicula  any_publicacio  \\\n",
       "0                           {'Ficció'}                   Si            1987   \n",
       "1                         {'Romàntic'}                   Si            1996   \n",
       "2                   {'Ciència Ficció'}                   No            1968   \n",
       "3              {'Fantasia', 'Juvenil'}                   Si            2000   \n",
       "4  {'Històrica', 'Ficció', 'Romàntic'}                   No            2012   \n",
       "\n",
       "   edat_minima                            editorial  \\\n",
       "0            3          Editorial Tusquets Editores   \n",
       "1           13                    Editorial Picador   \n",
       "2           13                  Editorial Doubleday   \n",
       "3            9  Editorial Bloomsbury Publishing PLC   \n",
       "4           13                  Ecco Suma de Letras   \n",
       "\n",
       "                      format  num_pagines best_seller saga  \\\n",
       "0  {'tova', 'eBook', 'dura'}          400          Si   No   \n",
       "1  {'tova', 'eBook', 'dura'}          464          Si   Si   \n",
       "2                   {'tova'}          208          Si   No   \n",
       "3  {'tova', 'eBook', 'dura'}          336          Si   Si   \n",
       "4  {'tova', 'eBook', 'dura'}          497          Si   No   \n",
       "\n",
       "                                         traduccions  valoracio  num_lectures  \n",
       "0  {'Alemany', 'Japonès', 'Anglès', 'Italià', 'Es...        4.5             1  \n",
       "1  {'Català', 'Italià', 'Espanyol', 'Anglès', 'Fr...        4.7             1  \n",
       "2       {'Anglès', 'Francès', 'Alemany', 'Espanyol'}        4.4             0  \n",
       "3  {'Alemany', 'Català', 'Italià', 'Espanyol', 'A...        4.7             7  \n",
       "4        {'Anglès', 'Italià', 'Japonès', 'Espanyol'}        4.8             2  "
      ]
     },
     "execution_count": 10,
     "metadata": {},
     "output_type": "execute_result"
    }
   ],
   "source": [
    "books_dataset.head()"
   ]
  },
  {
   "cell_type": "markdown",
   "id": "6794b3ea-ec83-46ab-ab59-ffde76cf3284",
   "metadata": {},
   "source": [
    "<div style=\"background-color:#F2F2F2; padding: 10px;\">\n",
    "    <div style=\"text-align: center;\">\n",
    "      <span style=\"font-family: 'Playfair Display', serif; font-size: 20px; font-weight: bold;\">\n",
    "        2. Datset Exportation \n",
    "      </span>\n",
    "    </div>\n",
    "</div>\n"
   ]
  },
  {
   "cell_type": "code",
   "execution_count": 11,
   "id": "dcbe3b25-7f76-4017-a7a1-ceb9658a58fc",
   "metadata": {},
   "outputs": [],
   "source": [
    "books_dataset.to_csv('Books.csv', index=False)"
   ]
  }
 ],
 "metadata": {
  "kernelspec": {
   "display_name": "Python 3 (ipykernel)",
   "language": "python",
   "name": "python3"
  },
  "language_info": {
   "codemirror_mode": {
    "name": "ipython",
    "version": 3
   },
   "file_extension": ".py",
   "mimetype": "text/x-python",
   "name": "python",
   "nbconvert_exporter": "python",
   "pygments_lexer": "ipython3",
   "version": "3.10.6"
  }
 },
 "nbformat": 4,
 "nbformat_minor": 5
}
